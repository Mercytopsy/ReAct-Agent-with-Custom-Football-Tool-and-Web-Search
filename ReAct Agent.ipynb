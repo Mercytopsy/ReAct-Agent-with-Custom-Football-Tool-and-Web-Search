{
 "cells": [
  {
   "cell_type": "code",
   "execution_count": null,
   "id": "d65f6484",
   "metadata": {},
   "outputs": [],
   "source": [
    "%pip install langchain langchain_core langchain_community tavily-python\n",
    "%pip install langgraph langchain-ollama python-dotenv"
   ]
  },
  {
   "cell_type": "code",
   "execution_count": null,
   "id": "5b49e415",
   "metadata": {},
   "outputs": [],
   "source": [
    "import requests\n",
    "import os\n",
    "from langchain.tools import tool\n",
    "from langchain_community.tools.tavily_search import TavilySearchResults\n",
    "from langgraph.checkpoint.memory import MemorySaver\n",
    "from langgraph.prebuilt import create_react_agent\n",
    "from IPython.display import Image, display\n",
    "from langchain_ollama import ChatOllama\n",
    "\n",
    "from dotenv import load_dotenv\n",
    "\n",
    "load_dotenv() \n",
    "api_key = os.getenv(\"SPORT_api_key\")\n",
    "api_secret = os.getenv(\"SPORT_api_secret\")"
   ]
  },
  {
   "cell_type": "code",
   "execution_count": 18,
   "id": "3e954107",
   "metadata": {},
   "outputs": [],
   "source": [
    "class FootballData:\n",
    "    \"\"\"\n",
    "    This is a class for retrieving  football upcoming matches based on country name.\n",
    "    \"\"\"\n",
    "    def __init__(self):\n",
    "        self.BASE_URL = \"https://livescore-api.com/api-client\"\n",
    "        self.api_key = api_key\n",
    "        self.api_secret = api_secret\n",
    "    \n",
    "    def get_country_id(self, country_name):\n",
    "        \"\"\"Fetch country ID by country name.\"\"\"\n",
    "        url = f\"{self.BASE_URL}/countries/list.json?key={self.api_key}&secret={self.api_secret}\"\n",
    "        response = requests.get(url).json()\n",
    "        \n",
    "        for country in response[\"data\"][\"country\"]:\n",
    "            if country[\"name\"].lower() == country_name.lower():\n",
    "                return country[\"id\"]\n",
    "        return None\n",
    "\n",
    "    def get_competition_ids(self, country_id):\n",
    "        \"\"\"Fetch competition IDs for a given country ID.\"\"\"\n",
    "        url = f\"{self.BASE_URL}/competitions/list.json?key={self.api_key}&secret={self.api_secret}&country_id={country_id}\"\n",
    "        response = requests.get(url).json()\n",
    "        \n",
    "        return [comp[\"id\"] for comp in response[\"data\"][\"competition\"]]\n",
    "\n",
    "    def get_upcoming_fixtures(self, competition_ids):\n",
    "        \"\"\"Fetch upcoming matches for given competition IDs\"\"\"\n",
    "        fixtures = []\n",
    "        \n",
    "        for comp_id in competition_ids:\n",
    "            url = f\"{self.BASE_URL}/fixtures/matches.json?key={self.api_key}&secret={self.api_secret}&competition_id={comp_id}\"\n",
    "            response = requests.get(url).json()\n",
    "            \n",
    "            if \"fixtures\" in response[\"data\"]:\n",
    "                fixtures.extend(response[\"data\"][\"fixtures\"])\n",
    "        \n",
    "        return fixtures\n",
    "\n",
    "    def get_upcoming_matches(self, country_name):\n",
    "        \"\"\"Get all upcoming matches and preprocess to take the information needed from result\"\"\"\n",
    "        country_id = self.get_country_id(country_name)\n",
    "        if not country_id:\n",
    "            return f\"No country found with the name {country_name}\"\n",
    "\n",
    "        competition_ids = self.get_competition_ids(country_id)\n",
    "        if not competition_ids:\n",
    "            return f\"No competitions found for {country_name}\"\n",
    "\n",
    "        fixtures = self.get_upcoming_fixtures(competition_ids)\n",
    "        if not fixtures:\n",
    "            return f\"No upcoming fixtures found for {country_name}\"\n",
    "        \n",
    "        # Format the matches data\n",
    "        formatted_matches = []\n",
    "        for match in fixtures:\n",
    "            formatted_matches.append(\n",
    "                f\"{match['home_name']} vs {match['away_name']} at {match['location']} - {match['date']}, {match['time']}\"\n",
    "        )\n",
    "        return formatted_matches"
   ]
  },
  {
   "cell_type": "code",
   "execution_count": 19,
   "id": "63dfb1a9",
   "metadata": {},
   "outputs": [],
   "source": [
    "@tool\n",
    "def get_upcoming_matches(query:str):\n",
    "    \"\"\"Use this tool to get upcoming football matches for a given country. Provide the country name as the input.\"\"\"\n",
    "    sport_tool = FootballData()\n",
    "    return sport_tool.get_upcoming_matches(query)"
   ]
  },
  {
   "cell_type": "code",
   "execution_count": 20,
   "id": "75e83b0a",
   "metadata": {},
   "outputs": [],
   "source": [
    "web_search = TavilySearchResults()"
   ]
  },
  {
   "cell_type": "code",
   "execution_count": 21,
   "id": "73f6b4c8",
   "metadata": {},
   "outputs": [],
   "source": [
    "tools = [get_upcoming_matches, web_search]"
   ]
  },
  {
   "cell_type": "code",
   "execution_count": null,
   "id": "be8b64e4",
   "metadata": {},
   "outputs": [],
   "source": [
    "memory = MemorySaver()\n",
    "model = ChatOllama(model=\"llama3.2:3b\")\n",
    "\n",
    "agent = create_react_agent(model, tools=tools, checkpointer=memory)"
   ]
  },
  {
   "cell_type": "code",
   "execution_count": 28,
   "id": "8a78ae3c",
   "metadata": {},
   "outputs": [
    {
     "data": {
      "image/png": "[encoded data removed]",
      "text/plain": [
       "<IPython.core.display.Image object>"
      ]
     },
     "metadata": {},
     "output_type": "display_data"
    }
   ],
   "source": [
    "display(\n",
    "    Image(agent.get_graph().draw_mermaid_png())\n",
    ")"
   ]
  },
  {
   "cell_type": "code",
   "execution_count": 24,
   "id": "053c87ba",
   "metadata": {},
   "outputs": [],
   "source": [
    "config = {\"configurable\": {\"thread_id\": \"1\"}}\n",
    "\n",
    "inputs = {\n",
    "    \"messages\":[\n",
    "        (\n",
    "            \"human\",\n",
    "            \"Search for all upcoming matches in England\"\n",
    "        )\n",
    "    ]\n",
    "}"
   ]
  },
  {
   "cell_type": "code",
   "execution_count": 25,
   "id": "c343f585",
   "metadata": {},
   "outputs": [],
   "source": [
    "result = agent.stream(inputs, config=config, stream_mode=\"values\")"
   ]
  },
  {
   "cell_type": "code",
   "execution_count": 26,
   "id": "68ead8da",
   "metadata": {},
   "outputs": [
    {
     "name": "stdout",
     "output_type": "stream",
     "text": [
      "================================\u001b[1m Human Message \u001b[0m=================================\n",
      "\n",
      "Search for all upcoming matches in England\n",
      "==================================\u001b[1m Ai Message \u001b[0m==================================\n",
      "Tool Calls:\n",
      "  get_upcoming_matches (call_0VGztmqIXSsRuQLSZckWEy4B)\n",
      " Call ID: call_0VGztmqIXSsRuQLSZckWEy4B\n",
      "  Args:\n",
      "    query: England\n",
      "=================================\u001b[1m Tool Message \u001b[0m=================================\n",
      "Name: get_upcoming_matches\n",
      "\n",
      "[\"Blackburn Rovers vs Sheffield Wednesday at Ewood Park - 2025-04-08, 18:45:00\", \"Bristol City vs West Bromwich Albion at Ashton Gate Stadium - 2025-04-08, 18:45:00\", \"Norwich City vs Sunderland at Carrow Road - 2025-04-08, 18:45:00\", \"Preston North End vs Cardiff City at Deepdale Stadium - 2025-04-08, 18:45:00\", \"Sheffield United vs Millwall at Bramall Lane - 2025-04-08, 18:45:00\", \"Stoke City vs Luton Town at Bet365 Stadium - 2025-04-08, 18:45:00\", \"Watford vs Hull City at Vicarage Road Stadium - 2025-04-08, 18:45:00\", \"Derby County vs Burnley at Pride Park Stadium - 2025-04-08, 18:45:00\", \"Middlesbrough vs Leeds United at Riverside Stadium - 2025-04-08, 19:00:00\", \"Oxford United vs Queens Park Rangers at The Kassam Stadium - 2025-04-09, 18:45:00\", \"Swansea City vs Plymouth Argyle at Liberty Stadium  - 2025-04-09, 18:45:00\", \"Coventry City vs Portsmouth at Ricoh Arena  - 2025-04-09, 19:00:00\", \"Burnley vs Norwich City at Turf Moor - 2025-04-11, 19:00:00\", \"Leeds United vs Preston North End at Elland Road - 2025-04-12, 11:30:00\", \"Plymouth Argyle vs Sheffield United at Home Park - 2025-04-12, 11:30:00\", \"Cardiff City vs Stoke City at Cardiff City Stadium - 2025-04-12, 14:00:00\", \"Luton Town vs Blackburn Rovers at Kenilworth Road Stadium - 2025-04-12, 14:00:00\", \"Millwall vs Middlesbrough at The Den - 2025-04-12, 14:00:00\", \"Portsmouth vs Derby County at Fratton Park - 2025-04-12, 14:00:00\", \"Queens Park Rangers vs Bristol City at Loftus Road Stadium - 2025-04-12, 14:00:00\", \"Sheffield Wednesday vs Oxford United at Hillsborough Stadium - 2025-04-12, 14:00:00\", \"Sunderland vs Swansea City at Stadium of Light - 2025-04-12, 14:00:00\", \"West Bromwich Albion vs Watford at The Hawthorns - 2025-04-12, 14:00:00\", \"Hull City vs Coventry City at KCOM StadiumCity - 2025-04-14, 19:00:00\", \"Derby County vs Luton Town at Pride Park Stadium - 2025-04-18, 11:30:00\", \"Blackburn Rovers vs Millwall at Ewood Park - 2025-04-18, 14:00:00\", \"Bristol City vs Sunderland at Ashton Gate Stadium - 2025-04-18, 14:00:00\", \"Coventry City vs West Bromwich Albion at Ricoh Arena  - 2025-04-18, 14:00:00\", \"Middlesbrough vs Plymouth Argyle at Riverside Stadium - 2025-04-18, 14:00:00\", \"Norwich City vs Portsmouth at Carrow Road - 2025-04-18, 14:00:00\", \"Manchester United vs Manchester City at Wembley Stadium - 2025-05-29, 14:00:00\", \"Birmingham City vs Peterborough United at St. Andrew's Stadium - 2025-04-13, 14:00:00\", \"Crystal Palace vs Aston Villa at Wembley Stadium - 2025-04-26, 14:00:00\", \"Nottingham Forest vs Manchester City at Wembley Stadium - 2025-04-26, 14:00:00\", \"Exeter City vs Wigan Athletic at St. James' Park - 2025-04-08, 18:45:00\", \"Bolton Wanderers vs Rotherham United at Macron Stadium - 2025-04-08, 18:45:00\", \"Huddersfield Town vs Wycombe Wanderers at The John Smith's Stadium - 2025-04-08, 18:45:00\", \"Peterborough United vs Birmingham City at ABAX Stadium - 2025-04-08, 18:45:00\", \"Mansfield Town vs Leyton Orient at One Call Stadium - 2025-04-08, 18:45:00\", \"Shrewsbury Town vs Reading at Montgomery Waters Meadow - 2025-04-08, 18:45:00\", \"Wigan Athletic vs Wrexham at The DW Stadium - 2025-04-12, 11:30:00\", \"Wycombe Wanderers vs Stevenage at Adams Park - 2025-04-12, 11:30:00\", \"Barnsley vs Bolton Wanderers at Oakwell Stadium - 2025-04-12, 14:00:00\", \"Bristol Rovers vs Exeter City at Memorial Stadium - 2025-04-12, 14:00:00\", \"Burton Albion vs Huddersfield Town at Pirelli Stadium - 2025-04-12, 14:00:00\", \"Cambridge United vs Charlton Athletic at Abbey Stadium - 2025-04-12, 14:00:00\", \"Crawley Town vs Leyton Orient at  The People's Pension Stadium - 2025-04-12, 14:00:00\", \"Lincoln City vs Shrewsbury Town at Sincil Bank Stadium - 2025-04-12, 14:00:00\", \"Northampton Town vs Reading at Sixfields Stadium - 2025-04-12, 14:00:00\", \"Stockport County vs Rotherham United at Edgeley Park - 2025-04-12, 14:00:00\", \"Exeter City vs Burton Albion at St. James' Park - 2025-04-18, 12:00:00\", \"Birmingham City vs Crawley Town at St. Andrew's Stadium - 2025-04-18, 14:00:00\", \"Bolton Wanderers vs Wycombe Wanderers at Macron Stadium - 2025-04-18, 14:00:00\", \"Charlton Athletic vs Northampton Town at The Valley - 2025-04-18, 14:00:00\", \"Huddersfield Town vs Cambridge United at The John Smith's Stadium - 2025-04-18, 14:00:00\", \"Leyton Orient vs Barnsley at The Breyer Group Stadium - 2025-04-18, 14:00:00\", \"Peterborough United vs Stockport County at ABAX Stadium - 2025-04-18, 14:00:00\", \"Reading vs Lincoln City at Madejski Stadium - 2025-04-18, 14:00:00\", \"Rotherham United vs Mansfield Town at AESSEAL New York Stadium - 2025-04-18, 14:00:00\", \"Shrewsbury Town vs Wigan Athletic at Montgomery Waters Meadow - 2025-04-18, 14:00:00\", \"Stevenage vs Blackpool at The Lamex Stadium - 2025-04-18, 14:00:00\", \"Wrexham vs Bristol Rovers at Racecourse Ground - 2025-04-18, 14:00:00\", \"Barnsley vs Peterborough United at Oakwell Stadium - 2025-04-21, 14:00:00\", \"Blackpool vs Wrexham at Bloomfield Road - 2025-04-21, 14:00:00\", \"Chesterfield vs Gillingham at Proact Stadium - 2025-04-08, 18:45:00\", \"Crewe Alexandra vs Cheltenham Town at Alexandra Stadium - 2025-04-10, 19:00:00\", \"Notts County vs Salford City at Meadow Lane Stadium - 2025-04-11, 18:45:00\", \"Doncaster Rovers vs AFC Wimbledon at The Keepmoat Stadium - 2025-04-12, 11:30:00\", \"Swindon Town vs Bradford City at The Energy Check County Ground - 2025-04-12, 11:30:00\", \"Accrington Stanley vs Tranmere Rovers at Wham Stadium  - 2025-04-12, 14:00:00\", \"Barrow vs Walsall at Furness Building Society Stadium - 2025-04-12, 14:00:00\", \"Chesterfield vs Fleetwood Town at Proact Stadium - 2025-04-12, 14:00:00\", \"Gillingham vs Milton Keynes Dons at MEMS Priestfield Stadium - 2025-04-12, 14:00:00\", \"Harrogate vs Grimsby Town at CNG Stadium - 2025-04-12, 14:00:00\", \"Morecambe vs Carlisle United at Globe Arena - 2025-04-12, 14:00:00\", \"Newport County vs Colchester United at Rodney Parade - 2025-04-12, 14:00:00\", \"Port Vale vs Bromley at Vale Park - 2025-04-12, 14:00:00\", \"Salford City vs Doncaster Rovers at The Peninsula Stadium - 2025-04-15, 18:45:00\", \"Bradford City vs Notts County at Northern Commercials Stadium - 2025-04-17, 19:00:00\", \"AFC Wimbledon vs Chesterfield at Cherry Red Records Fans' Stadium - 2025-04-18, 14:00:00\", \"Bromley vs Morecambe at The H2T Group Stadium - 2025-04-18, 14:00:00\", \"Carlisle United vs Port Vale at Brunton Park - 2025-04-18, 14:00:00\", \"Cheltenham Town vs Gillingham at Jonny-Rocks Stadium - 2025-04-18, 14:00:00\", \"Colchester United vs Crewe Alexandra at JobServe Community Stadium - 2025-04-18, 14:00:00\", \"Fleetwood Town vs Barrow at Highbury Stadium - 2025-04-18, 14:00:00\", \"Grimsby Town vs Swindon Town at Blundell Park - 2025-04-18, 14:00:00\", \"Milton Keynes Dons vs Newport County at Stadium mk - 2025-04-18, 14:00:00\", \"Salford City vs Accrington Stanley at The Peninsula Stadium - 2025-04-18, 14:00:00\", \"Tranmere Rovers vs Doncaster Rovers at Prenton Park - 2025-04-18, 14:00:00\", \"Walsall vs Harrogate at The Banks's Stadium - 2025-04-18, 14:00:00\", \"Newport County vs Walsall at Rodney Parade - 2025-04-21, 11:30:00\", \"Accrington Stanley vs Carlisle United at Wham Stadium  - 2025-04-21, 14:00:00\", \"Barrow vs Tranmere Rovers at Furness Building Society Stadium - 2025-04-21, 14:00:00\", \"Chesterfield vs Bradford City at Proact Stadium - 2025-04-21, 14:00:00\", \"Sutton United vs Rochdale at The Borough Sports Ground - 2025-04-08, 18:45:00\", \"Aldershot Town vs Boston United at Electrical Services Stadium - 2025-04-08, 18:45:00\", \"Oldham Athletic vs Woking at Boundary Park - 2025-04-08, 18:45:00\", \"Barnet vs Wealdstone at The Hive Stadium - 2025-04-12, 11:30:00\", \"Boston United vs Altrincham at The Jakemans Community Stadium - 2025-04-12, 14:00:00\", \"Dagenham &amp; Redbridge vs Hartlepool United at Chigwell Construction Stadium - 2025-04-12, 14:00:00\", \"Ebbsfleet United vs Sutton United at Stonebridge Road - 2025-04-12, 14:00:00\", \"FC Halifax Town vs Maidenhead United at The Shay Stadium - 2025-04-12, 14:00:00\", \"Rochdale vs Eastleigh at Crown Oil Arena - 2025-04-12, 14:00:00\", \"Southend United vs Solihull Moors at Roots Hall Stadium - 2025-04-12, 14:00:00\", \"Tamworth vs Braintree Town at The Lamb Ground - 2025-04-12, 14:00:00\", \"Woking vs AFC Fylde at The Laithwaite Community Stadium - 2025-04-12, 14:00:00\", \"Yeovil Town vs Oldham Athletic at Huish Park Stadium - 2025-04-12, 14:00:00\", \"York City vs Aldershot Town at LNER Community Stadium - 2025-04-12, 14:00:00\", \"Forest Green Rovers vs Gateshead FC at The New Lawn - 2025-04-12, 16:30:00\", \"Gateshead FC vs York City at Gateshead International Stadium - 2025-04-18, 11:30:00\", \"AFC Fylde vs FC Halifax Town at Mill Farm Stadium - 2025-04-18, 14:00:00\", \"Aldershot Town vs Sutton United at Electrical Services Stadium - 2025-04-18, 14:00:00\", \"Altrincham vs Rochdale at The J. Davidson Stadium - 2025-04-18, 14:00:00\", \"Boston United vs Wealdstone at The Jakemans Community Stadium - 2025-04-18, 14:00:00\", \"Dagenham &amp; Redbridge vs Ebbsfleet United at Chigwell Construction Stadium - 2025-04-18, 14:00:00\", \"Maidenhead United vs Woking at York Road Stadium - 2025-04-18, 14:00:00\", \"Oldham Athletic vs Hartlepool United at Boundary Park - 2025-04-18, 14:00:00\", \"Southend United vs Braintree Town at Roots Hall Stadium - 2025-04-18, 14:00:00\", \"Tamworth vs Solihull Moors at The Lamb Ground - 2025-04-18, 14:00:00\", \"Yeovil Town vs Forest Green Rovers at Huish Park Stadium - 2025-04-18, 14:00:00\", \"Barnet vs Eastleigh at The Hive Stadium - 2025-04-18, 16:30:00\", \"Braintree Town vs Dagenham &amp; Redbridge at Ironmongery Direct Stadium - 2025-04-21, 14:00:00\", \"Eastleigh vs Yeovil Town at Silverlake Stadium - 2025-04-21, 14:00:00\", \"Ebbsfleet United vs Southend United at Stonebridge Road - 2025-04-21, 14:00:00\", \"Curzon Ashton vs Spennymoor Town FC at Tameside Stadium - 2025-04-08, 18:45:00\", \"Bath City vs Dorking Wanderers at Twerton Park Stadium - 2025-04-12, 14:00:00\", \"Boreham Wood vs Hemel Hempstead at Meadow Park - 2025-04-12, 14:00:00\", \"Chelmsford vs Enfield Town at Melbourne Stadium - 2025-04-12, 14:00:00\", \"Chesham United vs Farnborough at The Meadow - 2025-04-12, 14:00:00\", \"Hampton & Richmond vs Welling United at Beveree Stadium - 2025-04-12, 14:00:00\", \"Hornchurch vs Truro City at Hornchurch Stadium - 2025-04-12, 14:00:00\", \"Maidstone vs Weymouth at Gallagher Stadium - 2025-04-12, 14:00:00\", \"Salisbury vs Aveley at The Raymond McEnhill Stadium - 2025-04-12, 14:00:00\", \"St.Albans vs Eastbourne Borough at Clarence Park - 2025-04-12, 14:00:00\", \"Torquay United vs Slough Town at Plainmoor Ground - 2025-04-12, 14:00:00\", \"Weston Super Mare vs Tonbridge Angels at The Optima Stadium - 2025-04-12, 14:00:00\", \"Worthing vs Chippenham Town at The A2B Stadium - 2025-04-12, 14:00:00\", \"Alfreton Town vs Peterborough Sports at The Impact Arena - 2025-04-12, 14:00:00\", \"Chester FC vs Darlington at Deva Stadium - 2025-04-12, 14:00:00\", \"Chorley vs Marine at The Chorley Group Victory Park Stadium - 2025-04-12, 14:00:00\", \"Farsley Celtic vs Kings Lynn Town at Throstle Nest - 2025-04-12, 14:00:00\", \"Kidderminster Harriers vs Curzon Ashton at Aggborough Stadium - 2025-04-12, 14:00:00\", \"Leamington vs Radcliffe at Your Co-op Community Stadium - 2025-04-12, 14:00:00\", \"Needham Market vs Rushall Olympic at Ecologic Stadium at Bloomfields - 2025-04-12, 14:00:00\", \"Oxford City vs Hereford at RAW Charging Stadium - 2025-04-12, 14:00:00\", \"Scarborough Athletic vs Buxton at Flamingo Land Stadium - 2025-04-12, 14:00:00\", \"Scunthorpe United vs Spennymoor Town FC at Glanford Park - 2025-04-12, 14:00:00\", \"South Shields vs Southport at 1st Cloud Arena - 2025-04-12, 14:00:00\", \"Warrington Town vs Brackley Town at Cantilever Park - 2025-04-12, 14:00:00\", \"Farsley Celtic vs Radcliffe at Throstle Nest - 2025-04-15, 18:45:00\", \"Aveley vs Chelmsford at Parkside Stadium - 2025-04-18, 14:00:00\", \"Chippenham Town vs Weston Super Mare at Hardenhuish Park - 2025-04-18, 14:00:00\", \"Dorking Wanderers vs Hampton & Richmond at Meadowbank Stadium - 2025-04-18, 14:00:00\", \"Eastbourne Borough vs Worthing at ReachTV Stadium - 2025-04-18, 14:00:00\", \"Leicester City vs Newcastle United at King Power Stadium - 2025-04-07, 19:00:00\", \"Manchester City vs Crystal Palace at Etihad Stadium - 2025-04-12, 11:30:00\", \"Brighton & Hove Albion vs Leicester City at The American Express Community Stadium - 2025-04-12, 14:00:00\", \"Nottingham Forest vs Everton at The City Ground - 2025-04-12, 14:00:00\", \"Southampton vs Aston Villa at St. Mary's Stadium - 2025-04-12, 14:00:00\", \"Arsenal vs Brentford at Emirates Stadium - 2025-04-12, 16:30:00\", \"Chelsea vs Ipswich Town at Stamford Bridge - 2025-04-13, 13:00:00\", \"Liverpool vs West Ham United at Anfield - 2025-04-13, 13:00:00\", \"Wolverhampton Wanderers vs Tottenham Hotspur at Molineux Stadium - 2025-04-13, 13:00:00\", \"Newcastle United vs Manchester United at St. James' Park - 2025-04-13, 15:30:00\", \"AFC Bournemouth vs Fulham at Vitality Stadium - 2025-04-14, 19:00:00\", \"Newcastle United vs Crystal Palace at St. James' Park - 2025-04-16, 18:30:00\", \"Brentford vs Brighton & Hove Albion at Griffin Park - 2025-04-19, 14:00:00\", \"Crystal Palace vs AFC Bournemouth at Selhurst Park - 2025-04-19, 14:00:00\", \"Everton vs Manchester City at Goodison Park - 2025-04-19, 14:00:00\", \"West Ham United vs Southampton at London Stadium - 2025-04-19, 14:00:00\", \"Aston Villa vs Newcastle United at Villa Park - 2025-04-19, 16:30:00\", \"Fulham vs Chelsea at Craven Cottage  - 2025-04-20, 13:00:00\", \"Ipswich Town vs Arsenal at Portman Road Stadium - 2025-04-20, 13:00:00\", \"Manchester United vs Wolverhampton Wanderers at Old Trafford - 2025-04-20, 13:00:00\", \"Leicester City vs Liverpool at King Power Stadium - 2025-04-20, 15:30:00\", \"Tottenham Hotspur vs Nottingham Forest at Tottenham Hotspur Stadium - 2025-04-21, 19:00:00\", \"Manchester City vs Aston Villa at Etihad Stadium - 2025-04-22, 19:00:00\", \"Arsenal vs Crystal Palace at Emirates Stadium - 2025-04-23, 19:00:00\", \"Chelsea vs Everton at Stamford Bridge - 2025-04-26, 11:30:00\", \"Brighton & Hove Albion vs West Ham United at American Express Stadium - 2025-04-26, 14:00:00\", \"Newcastle United vs Ipswich Town at St. James' Park - 2025-04-26, 14:00:00\", \"Southampton vs Fulham at St. Mary's Stadium - 2025-04-26, 14:00:00\", \"Wolverhampton Wanderers vs Leicester City at Molineux Stadium - 2025-04-26, 14:00:00\", \"AFC Bournemouth vs Manchester United at Vitality Stadium - 2025-04-27, 13:00:00\"]\n",
      "==================================\u001b[1m Ai Message \u001b[0m==================================\n",
      "\n",
      "Here are the upcoming football matches in England:\n",
      "\n",
      "### April 8, 2025\n",
      "- Blackburn Rovers vs Sheffield Wednesday at Ewood Park - 18:45\n",
      "- Bristol City vs West Bromwich Albion at Ashton Gate Stadium - 18:45\n",
      "- Norwich City vs Sunderland at Carrow Road - 18:45\n",
      "- Preston North End vs Cardiff City at Deepdale Stadium - 18:45\n",
      "- Sheffield United vs Millwall at Bramall Lane - 18:45\n",
      "- Stoke City vs Luton Town at Bet365 Stadium - 18:45\n",
      "- Watford vs Hull City at Vicarage Road Stadium - 18:45\n",
      "- Derby County vs Burnley at Pride Park Stadium - 18:45\n",
      "- Exeter City vs Wigan Athletic at St. James' Park - 18:45\n",
      "- Bolton Wanderers vs Rotherham United at Macron Stadium - 18:45\n",
      "- Huddersfield Town vs Wycombe Wanderers at The John Smith's Stadium - 18:45\n",
      "- Peterborough United vs Birmingham City at ABAX Stadium - 18:45\n",
      "- Mansfield Town vs Leyton Orient at One Call Stadium - 18:45\n",
      "- Shrewsbury Town vs Reading at Montgomery Waters Meadow - 18:45\n",
      "- Sutton United vs Woking at Boundary Park - 18:45\n",
      "\n",
      "### April 9, 2025\n",
      "- Oxford United vs Queens Park Rangers at The Kassam Stadium - 18:45\n",
      "- Swansea City vs Plymouth Argyle at Liberty Stadium - 18:45\n",
      "- Coventry City vs Portsmouth at Ricoh Arena - 19:00\n",
      "\n",
      "### April 11, 2025\n",
      "- Burnley vs Norwich City at Turf Moor - 19:00\n",
      "\n",
      "### April 12, 2025\n",
      "- Leeds United vs Preston North End at Elland Road - 11:30\n",
      "- Plymouth Argyle vs Sheffield United at Home Park - 11:30\n",
      "- Cardiff City vs Stoke City at Cardiff City Stadium - 14:00\n",
      "- Luton Town vs Blackburn Rovers at Kenilworth Road Stadium - 14:00\n",
      "- Millwall vs Middlesbrough at The Den - 14:00\n",
      "- Portsmouth vs Derby County at Fratton Park - 14:00\n",
      "- Queens Park Rangers vs Bristol City at Loftus Road Stadium - 14:00\n",
      "- Sheffield Wednesday vs Oxford United at Hillsborough Stadium - 14:00\n",
      "- Sunderland vs Swansea City at Stadium of Light - 14:00\n",
      "- West Bromwich Albion vs Watford at The Hawthorns - 14:00\n",
      "\n",
      "### April 14, 2025\n",
      "- Hull City vs Coventry City at KCOM Stadium - 19:00\n",
      "\n",
      "### April 18, 2025\n",
      "- Derby County vs Luton Town at Pride Park Stadium - 11:30\n",
      "- Blackburn Rovers vs Millwall at Ewood Park - 14:00\n",
      "- Bristol City vs Sunderland at Ashton Gate Stadium - 14:00\n",
      "- Coventry City vs West Bromwich Albion at Ricoh Arena - 14:00\n",
      "- Middlesbrough vs Plymouth Argyle at Riverside Stadium - 14:00\n",
      "- Norwich City vs Portsmouth at Carrow Road - 14:00\n",
      "\n",
      "### April 20, 2025\n",
      "- Fulham vs Chelsea at Craven Cottage - 13:00\n",
      "- Ipswich Town vs Arsenal at Portman Road Stadium - 13:00\n",
      "- Manchester United vs Wolverhampton Wanderers at Old Trafford - 13:00\n",
      "- Leicester City vs Liverpool at King Power Stadium - 15:30\n",
      "\n",
      "### Additional Notable Matches\n",
      "- Manchester United vs Manchester City at Wembley Stadium - May 29, 2025 - 14:00\n",
      "- Crystal Palace vs Aston Villa at Wembley Stadium - April 26, 2025 - 14:00\n",
      "- Nottingham Forest vs Manchester City at Wembley Stadium - April 26, 2025 - 14:00\n",
      "\n",
      "This list covers various leagues and matches across England, including Premier League, EFL Championship, and lower leagues.\n"
     ]
    }
   ],
   "source": [
    "for result in result:\n",
    "    message = result[\"messages\"][-1]\n",
    "    message.pretty_print()"
   ]
  },
  {
   "cell_type": "code",
   "execution_count": 29,
   "id": "938768f9",
   "metadata": {},
   "outputs": [],
   "source": [
    "config = {\"configurable\": {\"thread_id\": \"1\"}}\n",
    "\n",
    "inputs = {\n",
    "    \"messages\":[\n",
    "        (\n",
    "            \"human\",\n",
    "            \"Search for top 10 foods in Italy\"\n",
    "        )\n",
    "    ]\n",
    "}"
   ]
  },
  {
   "cell_type": "code",
   "execution_count": 30,
   "id": "8569623a",
   "metadata": {},
   "outputs": [],
   "source": [
    "result = agent.stream(inputs, config=config, stream_mode=\"values\")"
   ]
  },
  {
   "cell_type": "code",
   "execution_count": 31,
   "id": "ce023e35",
   "metadata": {},
   "outputs": [
    {
     "name": "stdout",
     "output_type": "stream",
     "text": [
      "================================\u001b[1m Human Message \u001b[0m=================================\n",
      "\n",
      "Search for top 10 foods in Italy\n",
      "==================================\u001b[1m Ai Message \u001b[0m==================================\n",
      "Tool Calls:\n",
      "  tavily_search_results_json (2cfeec35-7eb6-4add-97fb-bf68ac1028a4)\n",
      " Call ID: 2cfeec35-7eb6-4add-97fb-bf68ac1028a4\n",
      "  Args:\n",
      "    query: top 10 foods in Italy\n",
      "=================================\u001b[1m Tool Message \u001b[0m=================================\n",
      "Name: tavily_search_results_json\n",
      "\n",
      "[{\"url\": \"https://www.goaheadtours.com/travel-blog/articles/best-italian-dishes-worth-the-flight\", \"content\": \"Where to get the best cacio e pepe in Italy:\\n\\n\\n\\n10. Orecchiette with broccoli rabe\\n\\nOrigin: Puglia\\n\\nSay it in Italian: Orecchiette con cime di rapa\\n\\nWhen talking about the best Italian dishes, we were sure not to leave the country’s boot heel out. Here in the Puglia region, the sea (and fresh seafood) is just a stone’s throw away, there’s a rich farming tradition, and chef’s rely on a mode of cooking called “la cucina povera,” which translates to “the poor kitchen.” [...] If you’re asking yourself, “What food is Italy famous for?” there’s really no right answer—but we do know that Bologna is one of the best places in Italy for foodies. It’s nicknamed “La Grassa,” or the fat one, thanks to its indulgent culinary traditions, and tagliatelle alla bolognese is a shining star on that list. Saying it’s one of the best Italian dishes ever is an understatement! [...] Wondering what to eat in Italy? Check out a handful (or mouthful!) of regional dishes you’ve just gotta taste on a Food & Wine Tour of Italy, and some of the top Italian places to eat at. Fair warning: There are carbs ahead.\\n\\n\\n\\n1. Margherita pizza\\n\\nOrigin: Naples\\n\\nSay it in Italian: Pizza margherita or pizza Napoletana\"}, {\"url\": \"https://calista.com.tr/en/corporate/blog/italian-food-10-famous-dishes-of-italian-cuisine\", \"content\": \"The first thing that comes to mind when you think of Italian cuisine is undoubtedly pizza. Pizzas, made with a variety of ingredients, offer an option to satisfy every palate. Pizza, considered the most important dish in Italy, plays a big role in the country's cuisine, even though it is known as fast food in the world.\\n\\nThe most frequently preferred pizza recipe in Italy is Margarita, and it is consumed all over the world with its light structure and taste that appeals to every taste. [...] Prepared in a very practical way, Margarita contains flour, olive oil, water, dry yeast, salt, granulated sugar, tomatoes, oregano, basil, and mozzarella cheese. Considering its ingredients, pizza is also a suitable choice for a vegetarian diet, and it is a filling option.\\n\\nLasagna\\n\\n\\n\\nLasagne, which originated in Bologna, Italy, is an Italian dish that is among the local flavours of the country. It is also considered a type of pasta dish and is prepared with different methods and ingredients. [...] Lasagna typically contains lasagna sheets, ground meat, onions, tomatoes, tomato paste, olive oil, garlic, salt, butter, milk, flour, black pepper, and Parmesan cheese. The meat, tomato sauce, and special dough are prepared and baked in the oven, topped with béchamel sauce and cheese.\\n\\nFettucini Alfredo\\n\\n\\n\\nFettuccine Alfredo is a type of pasta unique to Italy, made with ingredients such as butter, Parmesan cheese, chicken breast, mushrooms, olive oil, cream, basil, garlic, and black pepper.\"}, {\"url\": \"https://www.quora.com/What-is-the-most-common-food-eaten-in-Italy\", \"content\": \"Pizza. · Pasta. · Arancini. · Focaccia. · Italian Cheese. · Lasagna. · Ossobuco. · Risotto.\"}, {\"url\": \"https://www.guidedbydestiny.com/food-italy-is-famous-for/\", \"content\": \"I honestly don’t know if I would expect lasagna to be on my list of popular foods in Italy normally, but after this experience, it had to be.\\n\\n9. Cappuccino [...] They don’t just stop at limoncello. They also offer lemon cream (my personal favorite), meloncello, sugared almonds, chocolate-covered coffee beans, chocolate-covered pistachios, chocolate-covered candied lemon and orange rinds— the list goes on. [...] Because of the way that Italians craft their coffee and the pride they take in it, I can understand why they want it to be unadulterated by artificial flavors.\\n\\nMany places top it with some cocoa powder and bring you some white and brown sugar as well. I enjoyed adding a little bit of brown sugar to mine! As a bonus, some places even give you little cookies or treats when you order a cappuccino! 🙂\\n\\n10. Wine\"}, {\"url\": \"https://thetourguy.com/travel-blog/italy/top-italian-foods-to-eat-in-italy/\", \"content\": \"In the south, they take this very seriously, which is why the best place to try Mozzarella di Bufala is in Naples or close by. Check out some other top foods to try on the Amalfi Coast and where to get them.\\n7. Lampredotto and Trippa [...] They are Guanciale (similar to Pancetta, but not quite), egg yolks, Pecorino Romano cheese, and crushed black pepper. That’s it! When you’re in Rome, order pasta Carbonara. That’s where it comes from and that, in my opinion, is where it will taste the best.\\n11. Supplí [...] Today, it’s a local favorite street food. Lampredotto is commonly served as a sandwich. Some say it’s delicious and others cringe at the sight of it. You’ll only know if you try it and the best place to do that is in Florence! Check out some other top foods to try in Florence and where to get them.\\n6. Carciofi alla Giudia and alla Romana\"}]\n",
      "==================================\u001b[1m Ai Message \u001b[0m==================================\n",
      "\n",
      "Based on the search results, here are the top 10 foods in Italy:\n",
      "\n",
      "1. **Margherita Pizza**: A classic Neapolitan-style pizza topped with tomato sauce, mozzarella cheese, and fresh basil leaves.\n",
      "2. **Lasagna**: A traditional Italian dish made with layers of pasta, meat sauce, and Parmesan cheese.\n",
      "3. **Fettucine Alfredo**: A rich and creamy pasta dish made with fettuccine noodles, Parmesan cheese, and a buttery sauce.\n",
      "4. **Orecchiette with Broccoli Rabe**: A hearty and flavorful pasta dish from Puglia, Italy, topped with broccoli rabe and a tangy dressing.\n",
      "5. **Cacio e Pepe**: A simple yet iconic Roman dish made with Pecorino Romano cheese, black pepper, and sometimes black truffles.\n",
      "6. **Arancini**: Stuffed rice balls that are typically filled with meat, cheese, and tomato sauce, then fried until crispy.\n",
      "7. **Focaccia**: A type of flatbread that is often topped with olive oil, herbs, and cheese, and served as an appetizer or side dish.\n",
      "8. **Supplì**: Fried risotto balls filled with mozzarella cheese and tomato sauce, typically served as a street food.\n",
      "9. **Carpiofi alla Giudia e alla Romana**: A traditional Italian dish made with artichoke hearts, often served in two different versions: one from Rome and one from Judea.\n",
      "10. **Wine**: Italy is famous for its wine production, particularly in regions like Tuscany, Piedmont, and Veneto.\n",
      "\n",
      "These are some of the most popular and iconic foods in Italy, but keep in mind that there are many other delicious dishes to try across the country!\n"
     ]
    }
   ],
   "source": [
    "for result in result:\n",
    "    message = result[\"messages\"][-1]\n",
    "    message.pretty_print()"
   ]
  },
  {
   "cell_type": "code",
   "execution_count": null,
   "id": "e2e1377a",
   "metadata": {},
   "outputs": [],
   "source": []
  }
 ],
 "metadata": {
  "kernelspec": {
   "display_name": "Python 3",
   "language": "python",
   "name": "python3"
  },
  "language_info": {
   "codemirror_mode": {
    "name": "ipython",
    "version": 3
   },
   "file_extension": ".py",
   "mimetype": "text/x-python",
   "name": "python",
   "nbconvert_exporter": "python",
   "pygments_lexer": "ipython3",
   "version": "3.11.11"
  }
 },
 "nbformat": 4,
 "nbformat_minor": 5
}
